{
 "cells": [
  {
   "cell_type": "code",
   "execution_count": 1,
   "metadata": {
    "collapsed": false
   },
   "outputs": [],
   "source": [
    "import urllib.parse\n",
    "import urllib.request\n",
    "\n",
    "from bs4 import BeautifulSoup\n",
    "\n",
    "import time\n",
    "import os\n",
    "\n",
    "import pandas as pd\n",
    "import math\n",
    "\n",
    "from datetime import datetime\n",
    "\n",
    "d_url = 'http://bbs.ruliweb.com/pc/board/1007/list/'\n",
    "headers = {\"User-Agent\" : \"Mozilla/5.0\", \"referer\" : \"http://bbs.ruliweb.com/\"}"
   ]
  },
  {
   "cell_type": "code",
   "execution_count": 2,
   "metadata": {
    "collapsed": true
   },
   "outputs": [],
   "source": [
    "def read_to_soup(url, headers):\n",
    "    request = urllib.request.Request(url, headers=headers)\n",
    "    result = urllib.request.urlopen(request)\n",
    "    html = result.read()\n",
    "    soup = BeautifulSoup(html, 'html.parser')\n",
    "\n",
    "    return soup"
   ]
  },
  {
   "cell_type": "code",
   "execution_count": 3,
   "metadata": {
    "collapsed": false
   },
   "outputs": [],
   "source": [
    "def fetch_list(url, options):\n",
    "    url += '?page=' + str(options['page'])\n",
    "\n",
    "    soup = read_to_soup(url, headers)\n",
    "\n",
    "    titles = [tag.get_text() for tag in soup.select('a[href^=\"http://bbs.ruliweb.com/pc/board/1007/read/\"]')[16:]]\n",
    "\n",
    "    links =  [tag['href'] for tag in soup.select('a[href^=\"http://bbs.ruliweb.com/pc/board/1007/read/\"]')[16:]]\n",
    "\n",
    "    return {\n",
    "        'links' : links,\n",
    "        'titles' : titles\n",
    "        }"
   ]
  },
  {
   "cell_type": "code",
   "execution_count": 4,
   "metadata": {
    "collapsed": true
   },
   "outputs": [],
   "source": [
    "def input_count():\n",
    "    count = int(input(\"검색할 게시물의 개수를 입력하세요('10단위'): \"))\n",
    "\n",
    "    return count"
   ]
  },
  {
   "cell_type": "code",
   "execution_count": 5,
   "metadata": {
    "collapsed": false
   },
   "outputs": [
    {
     "name": "stdout",
     "output_type": "stream",
     "text": [
      "검색할 게시물의 개수를 입력하세요('10단위'): 50000\n",
      "총 50010건 추출에 성공하였습니다.\n"
     ]
    }
   ],
   "source": [
    "def fetch_start():\n",
    "    \n",
    "    _max = input_count()\n",
    "\n",
    "    isBreak = False\n",
    "    isFirstLoop = True\n",
    "    isNaver = True\n",
    "    page = 1\n",
    "\n",
    "    options = {\n",
    "        'page' : page\n",
    "    }\n",
    "    \n",
    "    dic = {}\n",
    "    k = 0\n",
    "    \n",
    "    while True:\n",
    "        options['page'] += 1\n",
    "        _list = fetch_list(d_url, options)\n",
    "        l = 0\n",
    "        for c, v in _list.items():\n",
    "            for i in range(int(len(v)/2)):\n",
    "                dic[k] = {\n",
    "                    'links':_list['links'][l],\n",
    "                    'titles':_list['titles'][l]\n",
    "                }\n",
    "                k += 1\n",
    "                l += 1\n",
    "        if k >= _max:\n",
    "            break\n",
    "    pd.DataFrame(dic).T.to_excel('Ruriweb_HW.xlsx', index=False)\n",
    "    print(\"총 \" + str(k) + \"건 추출에 성공하였습니다.\")\n",
    "    \n",
    "fetch_start()"
   ]
  },
  {
   "cell_type": "code",
   "execution_count": null,
   "metadata": {
    "collapsed": true
   },
   "outputs": [],
   "source": []
  }
 ],
 "metadata": {
  "kernelspec": {
   "display_name": "Python [conda root]",
   "language": "python",
   "name": "conda-root-py"
  },
  "language_info": {
   "codemirror_mode": {
    "name": "ipython",
    "version": 3
   },
   "file_extension": ".py",
   "mimetype": "text/x-python",
   "name": "python",
   "nbconvert_exporter": "python",
   "pygments_lexer": "ipython3",
   "version": "3.5.2"
  }
 },
 "nbformat": 4,
 "nbformat_minor": 2
}
